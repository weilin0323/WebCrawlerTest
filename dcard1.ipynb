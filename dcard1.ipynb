{
 "cells": [
  {
   "cell_type": "code",
   "execution_count": 1,
   "id": "7dc3c890",
   "metadata": {},
   "outputs": [],
   "source": [
    "import requests\n",
    "\n",
    "pic=requests.get('https://imgur.dcard.tw/N2k5kV2m.jpg') #圖片網址\n",
    "img2 = pic.content #圖片裡的內容\n",
    "pic_out = open('img1.png','wb') #img1.png為預存檔的圖片名稱 wb=以二進制格式打开文件只用於寫入\n",
    "pic_out.write(img2) #將get圖片存入img1.png\n",
    "pic_out.close() #關閉檔案(很重要)"
   ]
  },
  {
   "cell_type": "code",
   "execution_count": null,
   "id": "40fbb641",
   "metadata": {},
   "outputs": [],
   "source": []
  }
 ],
 "metadata": {
  "kernelspec": {
   "display_name": "Python 3 (ipykernel)",
   "language": "python",
   "name": "python3"
  },
  "language_info": {
   "codemirror_mode": {
    "name": "ipython",
    "version": 3
   },
   "file_extension": ".py",
   "mimetype": "text/x-python",
   "name": "python",
   "nbconvert_exporter": "python",
   "pygments_lexer": "ipython3",
   "version": "3.9.6"
  }
 },
 "nbformat": 4,
 "nbformat_minor": 5
}
