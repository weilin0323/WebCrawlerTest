{
 "cells": [
  {
   "cell_type": "code",
   "execution_count": 1,
   "id": "acc0c526",
   "metadata": {},
   "outputs": [
    {
     "name": "stdout",
     "output_type": "stream",
     "text": [
      "/bbs/MobileComm/M.1626249916.A.66C.html [購機] 可ps4遠端連線大電量機\n",
      "/bbs/MobileComm/M.1626250259.A.E51.html [問題] 請問ROG5普通版有超音波背鍵嗎？\n",
      "/bbs/MobileComm/M.1626251891.A.91D.html Re: [討論] Xperia 1 III vs iPhone 12 Pro Max拍照\n",
      "/bbs/MobileComm/M.1626253391.A.1F5.html Re: [情報] 台灣電信業者總用戶數\n",
      "/bbs/MobileComm/M.1626255858.A.EC0.html [情報] 測打完疫苗有無變成萬磁王的APP-Phyphox\n",
      "/bbs/MobileComm/M.1626257692.A.502.html [心得] Zenpower 10000 PD\n",
      "/bbs/MobileComm/M.1626259160.A.D4C.html [情報] Zenfone 8系統更新 WW_30.11.51.83\n",
      "/bbs/MobileComm/M.1626259178.A.7F9.html [購機] S20/S21/X5 ii\n",
      "/bbs/MobileComm/M.1626262692.A.B1C.html Re: [問題] 有人家裡也這樣嗎？\n",
      "/bbs/MobileComm/M.1611077033.A.778.html [公告] MobileComm板規 2021/05/09版\n",
      "/bbs/MobileComm/M.1617169901.A.D67.html [公告] 2021年5G訊號、速度回報文\n",
      "/bbs/MobileComm/M.1617281356.A.A57.html [公告] 7月閒聊區\n",
      "/bbs/MobileComm/M.1620714902.A.936.html [討論]板友自製防疫相關APP/官方訊息 懶人包\n"
     ]
    }
   ],
   "source": [
    "import requests\n",
    "from bs4 import BeautifulSoup\n",
    "\n",
    "f = open('file.txt', 'w') #開檔\n",
    "r = requests.get(\"https://www.ptt.cc/bbs/MobileComm/index.html\") #將網頁資料GET下來\n",
    "soup = BeautifulSoup(r.text,\"html.parser\") #將網頁資料以html.parser\n",
    "sel = soup.select(\"div.title a\") #取HTML標中的 <div class=\"title\"></div> 中的<a>標籤存入sel\n",
    "for s in sel:\n",
    "    print(s[\"href\"], s.text)\n",
    "    f.write(str(s[\"href\"]) + s.text+\"\\n\")#寫檔\n",
    "f.close()#關檔"
   ]
  },
  {
   "cell_type": "code",
   "execution_count": 3,
   "id": "9e803b39",
   "metadata": {},
   "outputs": [
    {
     "name": "stdout",
     "output_type": "stream",
     "text": [
      "/bbs/MobileComm/M.1626249916.A.66C.html[購機] 可ps4遠端連線大電量機\n",
      "/bbs/MobileComm/M.1626250259.A.E51.html[問題] 請問ROG5普通版有超音波背鍵嗎？\n",
      "/bbs/MobileComm/M.1626251891.A.91D.htmlRe: [討論] Xperia 1 III vs iPhone 12 Pro Max拍照\n",
      "/bbs/MobileComm/M.1626253391.A.1F5.htmlRe: [情報] 台灣電信業者總用戶數\n",
      "/bbs/MobileComm/M.1626255858.A.EC0.html[情報] 測打完疫苗有無變成萬磁王的APP-Phyphox\n",
      "/bbs/MobileComm/M.1626257692.A.502.html[心得] Zenpower 10000 PD\n",
      "/bbs/MobileComm/M.1626259160.A.D4C.html[情報] Zenfone 8系統更新 WW_30.11.51.83\n",
      "/bbs/MobileComm/M.1626259178.A.7F9.html[購機] S20/S21/X5 ii\n",
      "/bbs/MobileComm/M.1626262692.A.B1C.htmlRe: [問題] 有人家裡也這樣嗎？\n",
      "/bbs/MobileComm/M.1611077033.A.778.html[公告] MobileComm板規 2021/05/09版\n",
      "/bbs/MobileComm/M.1617169901.A.D67.html[公告] 2021年5G訊號、速度回報文\n",
      "/bbs/MobileComm/M.1617281356.A.A57.html[公告] 7月閒聊區\n",
      "/bbs/MobileComm/M.1620714902.A.936.html[討論]板友自製防疫相關APP/官方訊息 懶人包\n",
      "\n"
     ]
    }
   ],
   "source": [
    "#讀取來查看檔案內容\n",
    "f2 = open('file.txt', 'r')\n",
    "r2 = f2.read()\n",
    "print(r2)\n",
    "f2.close()"
   ]
  },
  {
   "cell_type": "code",
   "execution_count": null,
   "id": "e87e8a19",
   "metadata": {},
   "outputs": [],
   "source": []
  }
 ],
 "metadata": {
  "kernelspec": {
   "display_name": "Python 3 (ipykernel)",
   "language": "python",
   "name": "python3"
  },
  "language_info": {
   "codemirror_mode": {
    "name": "ipython",
    "version": 3
   },
   "file_extension": ".py",
   "mimetype": "text/x-python",
   "name": "python",
   "nbconvert_exporter": "python",
   "pygments_lexer": "ipython3",
   "version": "3.9.6"
  }
 },
 "nbformat": 4,
 "nbformat_minor": 5
}
