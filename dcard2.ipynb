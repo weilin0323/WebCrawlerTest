{
 "cells": [
  {
   "cell_type": "code",
   "execution_count": 21,
   "id": "0549e47b",
   "metadata": {},
   "outputs": [
    {
     "name": "stdout",
     "output_type": "stream",
     "text": [
      "第 1 頁的URL為:https://www.dcard.tw/f/pet/p/236481917\n",
      "第 1 張: https://imgur.dcard.tw/0GkTH2Ah.jpg\n",
      "第 2 張: https://imgur.dcard.tw/ZOuIFAFh.jpg\n",
      "第 2 頁的URL為:https://www.dcard.tw/f/pet/p/236482790\n",
      "第 3 張: https://imgur.dcard.tw/RT0k5pwh.jpg\n",
      "第 4 張: https://imgur.dcard.tw/vFENbZLh.jpg\n",
      "第 5 張: https://imgur.dcard.tw/FzuedXHh.jpg\n",
      "第 6 張: https://imgur.dcard.tw/FCoTmHLh.jpg\n",
      "第 7 張: https://imgur.dcard.tw/0ws4ZaWh.jpg\n",
      "第 8 張: https://imgur.dcard.tw/OQM46bih.jpg\n",
      "第 9 張: https://imgur.dcard.tw/67QN6qIh.jpg\n",
      "第 10 張: https://imgur.dcard.tw/ZqW2POqh.jpg\n",
      "第 3 頁的URL為:https://www.dcard.tw/f/pet/p/236484029\n",
      "第 11 張: https://imgur.dcard.tw/7xQsQHNh.jpg\n",
      "第 12 張: https://imgur.dcard.tw/kSP4YsWh.jpg\n",
      "第 13 張: https://imgur.dcard.tw/D3HtSdeh.jpg\n",
      "第 14 張: https://imgur.dcard.tw/Vskc8mrh.jpg\n",
      "第 15 張: https://imgur.dcard.tw/7xQsQHNh.jpg\n",
      "第 16 張: https://imgur.dcard.tw/kSP4YsWh.jpg\n",
      "第 17 張: https://imgur.dcard.tw/D3HtSdeh.jpg\n",
      "第 18 張: https://imgur.dcard.tw/Vskc8mrh.jpg\n",
      "迴圈結束\n",
      "爬蟲結束\n"
     ]
    }
   ],
   "source": [
    "import requests\n",
    "from bs4 import BeautifulSoup\n",
    "import json\n",
    "\n",
    "test = open(\"pet/test.txt\",\"w\",encoding='UTF-8')\n",
    "\n",
    "\n",
    "p = requests.Session()\n",
    "url=requests.get(\"https://www.dcard.tw/f/pet\")\n",
    "soup = BeautifulSoup(url.text,\"html.parser\")\n",
    "sel = soup.select(\"h2.tgn9uw-2 a.tgn9uw-3\")\n",
    "a=[]\n",
    "for s in sel:\n",
    "    a.append(s[\"href\"])\n",
    "url = \"https://www.dcard.tw\"+ a[2]\n",
    "\n",
    "\n",
    "j=0 #為了印頁數\n",
    "q=0 #為了印張數\n",
    "for i in a[2:]:\n",
    "    url = \"https://www.dcard.tw\"+i\n",
    "    if(j<=2):\n",
    "        j+=1\n",
    "        print (\"第\",j,\"頁的URL為:\"+url)\n",
    "        #file.write(\"temperature is {} wet is {}%\\n\".format(temperature, humidity))\n",
    "        test.write(\"第 {} 頁的URL為: {} \\n\".format(j,url))\n",
    "        url=requests.get(url)\n",
    "        soup = BeautifulSoup(url.text,\"html.parser\")\n",
    "        sel_jpg = soup.select(\"div.sc-2xcoxb-0 img\")\n",
    "\n",
    "        for c in sel_jpg:\n",
    "            q+=1\n",
    "            print(\"第\",q,\"張:\",c[\"src\"])\n",
    "            test.write(\"%\\n\"\"第 {} 張: {} \\n\".format(q,c[\"src\"])) \n",
    "            pic=requests.get(c[\"src\"])\n",
    "            img2 = pic.content\n",
    "            pic_out = open(\"pet/\"+str(q)+\".png\",'wb')\n",
    "            pic_out.write(img2)\n",
    "            pic_out.close()\n",
    "    else:\n",
    "        print(\"迴圈結束\")\n",
    "        break\n",
    "\n",
    "test.close()\n",
    "print(\"爬蟲結束\")"
   ]
  },
  {
   "cell_type": "code",
   "execution_count": null,
   "id": "bb53ffb6",
   "metadata": {},
   "outputs": [],
   "source": []
  },
  {
   "cell_type": "code",
   "execution_count": null,
   "id": "fb75ed77",
   "metadata": {},
   "outputs": [],
   "source": []
  }
 ],
 "metadata": {
  "kernelspec": {
   "display_name": "Python 3 (ipykernel)",
   "language": "python",
   "name": "python3"
  },
  "language_info": {
   "codemirror_mode": {
    "name": "ipython",
    "version": 3
   },
   "file_extension": ".py",
   "mimetype": "text/x-python",
   "name": "python",
   "nbconvert_exporter": "python",
   "pygments_lexer": "ipython3",
   "version": "3.9.6"
  }
 },
 "nbformat": 4,
 "nbformat_minor": 5
}
