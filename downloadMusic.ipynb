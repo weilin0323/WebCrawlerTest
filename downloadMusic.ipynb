{
 "cells": [
  {
   "cell_type": "code",
   "execution_count": 2,
   "id": "bd13e3d3",
   "metadata": {},
   "outputs": [
    {
     "name": "stdout",
     "output_type": "stream",
     "text": [
      "學習來源:https://aleelive.com/crawl-teach/pythonfile/.html\n"
     ]
    }
   ],
   "source": [
    "print(\"學習來源:https://aleelive.com/crawl-teach/pythonfile/.html\")"
   ]
  },
  {
   "cell_type": "code",
   "execution_count": 9,
   "id": "11903f21",
   "metadata": {},
   "outputs": [
    {
     "name": "stdout",
     "output_type": "stream",
     "text": [
      "OAF_youth_neutral.wav完成\n",
      "OAF_young_neutral.wav完成\n",
      "結束\n"
     ]
    }
   ],
   "source": [
    "import time\n",
    "from bs4 import BeautifulSoup\n",
    "import requests\n",
    "\n",
    "r = requests.get('https://tspace.library.utoronto.ca/handle/1807/24488')\n",
    "b = BeautifulSoup(r.text, 'html.parser')\n",
    "#只需要右側的音檔部分，所以現在將他們從資料中提出來\n",
    "wavs = b.find('div', {'class':'item-files'}).find('ul').find_all('li',limit=2)#limit限制抓幾個 檔案太多所以先跑2個測試\n",
    "\n",
    "headers = 'https://tspace.library.utoronto.ca/' #前面的網址\n",
    "for wav in wavs:\n",
    "    link = headers + str(wav.find('a')['href']) #完整網址\n",
    "    names = wav.find('a').text #檔案名稱\n",
    "    r = requests.get(link)\n",
    "    with open(\"music/\"+names, 'wb') as f:\n",
    "        f.write(r.content) #content返回的是bytes型數據，一般適用於圖片、文件。text返回的是 Unicode型數據，一般適用於字串\n",
    "        print(names+\"完成\")\n",
    "    time.sleep(0.05)\n",
    "print(\"結束\")"
   ]
  },
  {
   "cell_type": "code",
   "execution_count": null,
   "id": "8530ea3b",
   "metadata": {},
   "outputs": [],
   "source": []
  }
 ],
 "metadata": {
  "kernelspec": {
   "display_name": "Python 3 (ipykernel)",
   "language": "python",
   "name": "python3"
  },
  "language_info": {
   "codemirror_mode": {
    "name": "ipython",
    "version": 3
   },
   "file_extension": ".py",
   "mimetype": "text/x-python",
   "name": "python",
   "nbconvert_exporter": "python",
   "pygments_lexer": "ipython3",
   "version": "3.9.6"
  }
 },
 "nbformat": 4,
 "nbformat_minor": 5
}
